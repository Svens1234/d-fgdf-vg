{
 "cells": [
  {
   "cell_type": "code",
   "execution_count": 1,
   "id": "c02e9823",
   "metadata": {},
   "outputs": [],
   "source": [
    "import numpy as np"
   ]
  },
  {
   "cell_type": "code",
   "execution_count": 2,
   "id": "9defbd4d",
   "metadata": {},
   "outputs": [],
   "source": [
    "from scipy import linalg"
   ]
  },
  {
   "cell_type": "code",
   "execution_count": 4,
   "id": "6c30a6cf",
   "metadata": {},
   "outputs": [],
   "source": [
    "A=np.mat([[1,2],[3,4]])#матрица"
   ]
  },
  {
   "cell_type": "code",
   "execution_count": 5,
   "id": "39ea6d59",
   "metadata": {},
   "outputs": [],
   "source": [
    "Ai=linalg.inv(A)#сделать обратную матрицу из А"
   ]
  },
  {
   "cell_type": "code",
   "execution_count": 7,
   "id": "bbcd7428",
   "metadata": {},
   "outputs": [
    {
     "data": {
      "text/plain": [
       "array([[-2. ,  1. ],\n",
       "       [ 1.5, -0.5]])"
      ]
     },
     "execution_count": 7,
     "metadata": {},
     "output_type": "execute_result"
    }
   ],
   "source": [
    "Ai"
   ]
  },
  {
   "cell_type": "code",
   "execution_count": 8,
   "id": "2fb11444",
   "metadata": {},
   "outputs": [
    {
     "data": {
      "text/plain": [
       "matrix([[1.0000000e+00, 0.0000000e+00],\n",
       "        [8.8817842e-16, 1.0000000e+00]])"
      ]
     },
     "execution_count": 8,
     "metadata": {},
     "output_type": "execute_result"
    }
   ],
   "source": [
    "A*Ai"
   ]
  },
  {
   "cell_type": "code",
   "execution_count": null,
   "id": "b72a7a00",
   "metadata": {},
   "outputs": [],
   "source": []
  }
 ],
 "metadata": {
  "kernelspec": {
   "display_name": "Python 3 (ipykernel)",
   "language": "python",
   "name": "python3"
  },
  "language_info": {
   "codemirror_mode": {
    "name": "ipython",
    "version": 3
   },
   "file_extension": ".py",
   "mimetype": "text/x-python",
   "name": "python",
   "nbconvert_exporter": "python",
   "pygments_lexer": "ipython3",
   "version": "3.8.7"
  }
 },
 "nbformat": 4,
 "nbformat_minor": 5
}
